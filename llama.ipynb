{
 "cells": [
  {
   "cell_type": "code",
   "execution_count": 1,
   "metadata": {},
   "outputs": [
    {
     "data": {
      "text/plain": [
       "'6.29.5'"
      ]
     },
     "execution_count": 1,
     "metadata": {},
     "output_type": "execute_result"
    }
   ],
   "source": [
    "import ipykernel\n",
    "ipykernel.__version__"
   ]
  },
  {
   "cell_type": "code",
   "execution_count": 2,
   "metadata": {},
   "outputs": [],
   "source": [
    "from langchain_groq import ChatGroq\n",
    "\n",
    "llama = ChatGroq(\n",
    "    api_key = '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',\n",
    "    model_name = 'llama-3.3-70b-versatile'\n",
    ")"
   ]
  },
  {
   "cell_type": "code",
   "execution_count": 5,
   "metadata": {},
   "outputs": [
    {
     "name": "stdout",
     "output_type": "stream",
     "text": [
      "content='**Warm Welcome!**\\n\\nOn behalf of our team, I would like to extend a hearty welcome to you. We are thrilled to have you on board and are excited to work with you. Our goal is to provide you with exceptional service, tailored to your needs, and ensure that you have a seamless and enjoyable experience with us.\\n\\nPlease feel free to reach out to us at any time if you have any questions, concerns, or need assistance. We are always here to help and look forward to building a long-term relationship with you.\\n\\n**Thank you for choosing us!**' additional_kwargs={} response_metadata={'token_usage': {'completion_tokens': 116, 'prompt_tokens': 44, 'total_tokens': 160, 'completion_time': 0.421818182, 'prompt_time': 0.008182851, 'queue_time': 0.006325437, 'total_time': 0.430001033}, 'model_name': 'llama-3.3-70b-versatile', 'system_fingerprint': 'fp_fcc3b74982', 'finish_reason': 'stop', 'logprobs': None} id='run-a9e756d6-9c42-4578-a920-da89b6229740-0' usage_metadata={'input_tokens': 44, 'output_tokens': 116, 'total_tokens': 160}\n"
     ]
    }
   ],
   "source": [
    "AI_response = llama.invoke('Get Greet Welcome Message to the Client!')\n",
    "print(AI_response)"
   ]
  }
 ],
 "metadata": {
  "kernelspec": {
   "display_name": "Python 3",
   "language": "python",
   "name": "python3"
  },
  "language_info": {
   "codemirror_mode": {
    "name": "ipython",
    "version": 3
   },
   "file_extension": ".py",
   "mimetype": "text/x-python",
   "name": "python",
   "nbconvert_exporter": "python",
   "pygments_lexer": "ipython3",
   "version": "3.13.1"
  }
 },
 "nbformat": 4,
 "nbformat_minor": 2
}
